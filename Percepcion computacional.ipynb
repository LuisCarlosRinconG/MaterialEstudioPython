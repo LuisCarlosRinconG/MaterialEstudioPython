{
 "cells": [
  {
   "attachments": {},
   "cell_type": "markdown",
   "id": "0f5af530-ee28-49a3-a3d3-a3e559a9eea3",
   "metadata": {},
   "source": [
    "# Percepcion computacional\n",
    "## Luis Carlos Rincon Gordo\n",
    "### Material suministrado en clases de la universidad de cundinamarca- seccional Ubaté"
   ]
  },
  {
   "cell_type": "markdown",
   "id": "14a98678-e4be-408d-b12c-8c8acac4db47",
   "metadata": {},
   "source": [
    "# Percepcion de audio\n"
   ]
  },
  {
   "cell_type": "code",
   "execution_count": null,
   "id": "74761ebb-8609-4632-8e78-380baebfa183",
   "metadata": {},
   "outputs": [
    {
     "name": "stdout",
     "output_type": "stream",
     "text": [
      "esperando el comando: \n"
     ]
    }
   ],
   "source": [
    "#intalar librerias mediante el comando \n",
    "#pip install SpeechRecognition\n",
    "#pip install PyAudio\n",
    "import speech_recognition as sr\n",
    "r=sr.Recognizer()\n",
    "with sr.Microphone() as source:\n",
    "    print(\"esperando el comando: \")\n",
    "    audio =r.listen(source)\n",
    "    try:\n",
    "        text = r.recognize_google(audio,language=\"es-Es\")\n",
    "        print(\"Tu dijiste: {}\".format(text))\n",
    "    except:\n",
    "        print(\"perdon, no puedo oirte\")\n",
    "    "
   ]
  },
  {
   "cell_type": "markdown",
   "id": "3ded9ed5-31d3-4403-aacc-04b6d82ea5f0",
   "metadata": {},
   "source": [
    "# Percepcion de Imagenes"
   ]
  },
  {
   "cell_type": "code",
   "execution_count": null,
   "id": "87ce6bc2-ee78-454f-9fd8-469192926cb4",
   "metadata": {},
   "outputs": [],
   "source": [
    "# pip install scikit-image\n",
    "from skimage import io,color\n",
    "img=io.imread(\"descarga.png\")\n",
    "io.imshow(img)\n"
   ]
  },
  {
   "cell_type": "code",
   "execution_count": null,
   "id": "5f574478-dd29-4a23-bb79-86a7d95998b7",
   "metadata": {},
   "outputs": [],
   "source": [
    "print(img.shape)"
   ]
  },
  {
   "cell_type": "code",
   "execution_count": null,
   "id": "97c44324-3bd8-4613-ad78-19715690357b",
   "metadata": {},
   "outputs": [],
   "source": [
    "img_gris=color.rgb2gray(img[...,0:3])\n",
    "io.imshow(img_gris)\n",
    "io.show"
   ]
  },
  {
   "cell_type": "code",
   "execution_count": null,
   "id": "1fae0abb-bebc-4b35-9dd9-a36fd744c89e",
   "metadata": {},
   "outputs": [],
   "source": [
    "import matplotlib.pyplot as plt\n",
    "plt.subplot(211)\n",
    "plt.title(\"original\")\n",
    "io.imshow(img)\n",
    "plt.subplot(212)\n",
    "plt.title(\"Escala de grises\")\n",
    "io.imshow(img_gris)\n",
    "io.show"
   ]
  },
  {
   "cell_type": "code",
   "execution_count": null,
   "id": "29165043-1907-4ce4-abe6-df974fe75f33",
   "metadata": {},
   "outputs": [],
   "source": [
    "print(type(img))#Tipos de\n",
    "print(img.shape)#forma\n",
    "print(img.shape[0])#Ancho de imagen\n",
    "print(img.shape[1])#Altura de imagen\n",
    "print(img.shape[2])#Numero de canal de imagen\n",
    "print(img.size)#Mostrar el numero total de pixel\n",
    "print(img.max())# valor maximo de pixeles\n",
    "print(img.min())# valor minimo de pixeles\n",
    "print(img.mean())#promedio de pixeles"
   ]
  },
  {
   "cell_type": "code",
   "execution_count": null,
   "id": "c3415639-377b-4703-99cd-871e3e86e521",
   "metadata": {},
   "outputs": [],
   "source": [
    "pixel=img[50,100,2]\n",
    "print(pixel)"
   ]
  },
  {
   "cell_type": "code",
   "execution_count": null,
   "id": "ed3cd480-9da1-4059-b081-6905278e43fd",
   "metadata": {},
   "outputs": [],
   "source": [
    "import skimage\n",
    "#RUIDO GAUSSIANO\n",
    "noise=skimage.util.random_noise(img, mode=\"gaussian\", var=0.1)\n",
    "io.imshow(noise)"
   ]
  },
  {
   "cell_type": "markdown",
   "id": "231ca819-dc45-4753-bdff-90124a7fc690",
   "metadata": {},
   "source": [
    "# Clase del 16 de marzo del 2023 la cual se hizo de manera virtual"
   ]
  },
  {
   "cell_type": "code",
   "execution_count": null,
   "id": "910e6caa-59aa-4801-ac82-91779e52be5e",
   "metadata": {},
   "outputs": [],
   "source": [
    "import numpy as np\n",
    "mean=0\n",
    "var=0.01\n",
    "noise=np.random.normal(mean, var**0.5, img.shape)\n",
    "noise = img + noise\n",
    "noisy=np.clip(noisy,0.0,1.0)\n",
    "io.imshow(noise)"
   ]
  },
  {
   "cell_type": "markdown",
   "id": "5b7940cc-a0c4-44d4-8cbb-fae8a7fa48ad",
   "metadata": {},
   "source": [
    "### Scipy\n",
    "Procesamiento de imágenes a partir de pixeles"
   ]
  },
  {
   "cell_type": "code",
   "execution_count": null,
   "id": "28b154d2-f319-4986-8500-5d9c9d36fee9",
   "metadata": {},
   "outputs": [],
   "source": [
    "from scipy import misc\n",
    "from scipy import ndimage"
   ]
  },
  {
   "cell_type": "code",
   "execution_count": null,
   "id": "477148b9-78bc-4e5e-9130-de1a1fbe506c",
   "metadata": {},
   "outputs": [],
   "source": [
    "#image = img_gris[230:310, 210:350]\n",
    "noisy = img_gris + 0.4*img_gris.std()*np.random.random(img_gris.shape)\n",
    "io.imshow(noisy)"
   ]
  },
  {
   "cell_type": "code",
   "execution_count": null,
   "id": "1c2a707f-75ee-4f9c-9c7e-b4566f5e186a",
   "metadata": {},
   "outputs": [],
   "source": [
    "#Reduciendo ruido\n",
    "gauss_denoised = ndimage.gaussian_filter(noisy, 2)\n",
    "io.imshow(gauss_denoised)"
   ]
  },
  {
   "cell_type": "code",
   "execution_count": null,
   "id": "fa3bd63d-4d45-45e9-9b15-f34292a40002",
   "metadata": {},
   "outputs": [],
   "source": [
    "blurred_img = ndimage.gaussian_filter(img_gris, sigma=3)\n",
    "very_blurred = ndimage.gaussian_filter(img_gris, sigma=5)\n",
    "local_mean = ndimage.uniform_filter(img_gris, size=11)"
   ]
  },
  {
   "cell_type": "code",
   "execution_count": null,
   "id": "0bb6f782-9979-4f0a-b1ef-d7ae651bf0b4",
   "metadata": {},
   "outputs": [],
   "source": [
    "plt.subplot(321)\n",
    "plt.title('blurred_img') \n",
    "io.imshow(blurred_img)\n",
    "plt.subplot(322)\n",
    "plt.title('very_blurred') \n",
    "io.imshow(very_blurred)\n",
    "plt.subplot(223)\n",
    "plt.title('local_mean') \n",
    "io.imshow(local_mean)\n",
    "io.show()"
   ]
  },
  {
   "cell_type": "code",
   "execution_count": null,
   "id": "bfd5742e-e756-4a49-b1bc-56e265d04712",
   "metadata": {},
   "outputs": [],
   "source": [
    "im = ndimage.gaussian_filter(img, 5)\n",
    "sx = ndimage.sobel(im, axis=0, mode='constant')\n",
    "sy = ndimage.sobel(im, axis=1, mode='constant')\n",
    "sob = np.hypot(sx, sy)\n",
    "\n",
    "io.imshow(sy)"
   ]
  },
  {
   "cell_type": "code",
   "execution_count": null,
   "id": "47c2dae4-0fa2-45f4-b6ce-2fb36714ff9a",
   "metadata": {},
   "outputs": [],
   "source": [
    "from skimage import filters\n",
    "filtros = [filters.sobel, filters.roberts, filters.prewitt]\n",
    "\n",
    "\n",
    "edge_sobel = filters.sobel(img_gris)\n",
    "edge_scharr = filters.scharr(img_gris)\n",
    "edge_prewitt = filters.prewitt(img_gris)\n",
    "\n",
    "\n",
    "fig, axes = plt.subplots(ncols=3, sharex=True, sharey=True,\n",
    "                         figsize=(25, 10))\n",
    "\n",
    "axes[0].imshow(edge_sobel, cmap=plt.cm.gray)\n",
    "axes[0].set_title('sobel Edge Detection')\n",
    "\n",
    "axes[1].imshow(edge_scharr, cmap=plt.cm.gray)\n",
    "axes[1].set_title('scharr Edge Detection')\n",
    "\n",
    "axes[2].imshow(edge_prewitt, cmap=plt.cm.gray)\n",
    "axes[2].set_title('prewitt Edge Detection')"
   ]
  },
  {
   "cell_type": "code",
   "execution_count": null,
   "id": "efedfc3d-1dbd-4e82-ab34-766d7aea3934",
   "metadata": {},
   "outputs": [],
   "source": [
    "edge_roberts = filters.roberts(img_gris)\n",
    "edge_sobel = filters.sobel(img)\n",
    "\n",
    "fig, axes = plt.subplots(ncols=2, sharex=True, sharey=True,\n",
    "                         figsize=(8, 4))\n",
    "\n",
    "axes[0].imshow(edge_roberts, cmap=plt.cm.gray)\n",
    "axes[0].set_title('Roberts Edge Detection')\n",
    "\n",
    "axes[1].imshow(edge_sobel, cmap=plt.cm.gray)\n",
    "axes[1].set_title('Sobel Edge Detection')\n",
    "\n",
    "for ax in axes:\n",
    "    ax.axis('off')\n",
    "\n",
    "plt.tight_layout()\n",
    "plt.show()"
   ]
  },
  {
   "cell_type": "code",
   "execution_count": null,
   "id": "ccadba86-8d45-40f9-b1cf-e8aca0cceed9",
   "metadata": {},
   "outputs": [],
   "source": []
  }
 ],
 "metadata": {
  "kernelspec": {
   "display_name": "Python 3 (ipykernel)",
   "language": "python",
   "name": "python3"
  },
  "language_info": {
   "codemirror_mode": {
    "name": "ipython",
    "version": 3
   },
   "file_extension": ".py",
   "mimetype": "text/x-python",
   "name": "python",
   "nbconvert_exporter": "python",
   "pygments_lexer": "ipython3",
   "version": "3.9.13"
  }
 },
 "nbformat": 4,
 "nbformat_minor": 5
}
